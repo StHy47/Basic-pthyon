{
 "cells": [
  {
   "cell_type": "markdown",
   "id": "68565881",
   "metadata": {},
   "source": [
    "# 미션 2"
   ]
  },
  {
   "cell_type": "markdown",
   "id": "69be93a9",
   "metadata": {},
   "source": [
    "## 1. for 반복문으로 특정 리스트 내의 모든 숫자 합을 계산하는 함수를 구성하시오\n",
    "\n",
    "숙련자 : input 함수를 이용하고, 함수로 구성"
   ]
  },
  {
   "cell_type": "code",
   "execution_count": 66,
   "id": "7ba94d3b",
   "metadata": {},
   "outputs": [
    {
     "name": "stdout",
     "output_type": "stream",
     "text": [
      "숫자 입력 (, 기준 입력): 10,200,300\n",
      "510.0\n"
     ]
    }
   ],
   "source": [
    "list1 = (input('숫자 입력 (, 기준 입력): ').split(','))\n",
    "list1 = [float (i) for i in list1]\n",
    "result1 = 0\n",
    "\n",
    "for i in list1:\n",
    "    result1 = result1 + i\n",
    "print(result1)"
   ]
  },
  {
   "cell_type": "code",
   "execution_count": null,
   "id": "97e0b4c4",
   "metadata": {},
   "outputs": [],
   "source": []
  },
  {
   "cell_type": "markdown",
   "id": "b18acf70",
   "metadata": {},
   "source": [
    "## 2. for 반복문으로 특정 리스트 안에 있는 모든 숫자의 평균을 계산하는 함수를 구성하시오\n",
    "\n",
    "숙련자 : input 함수를 이용하고 함수로 구성"
   ]
  },
  {
   "cell_type": "code",
   "execution_count": 60,
   "id": "7637cf1e",
   "metadata": {},
   "outputs": [
    {
     "name": "stdout",
     "output_type": "stream",
     "text": [
      "숫자 입력 (, 기준 입력): 10,20,30,40\n",
      "평균 25.0\n"
     ]
    }
   ],
   "source": [
    "list2 = (input('숫자 입력 (, 기준 입력): ').split(','))\n",
    "list2 = [float (i) for i in list2]\n",
    "sum = 0\n",
    "\n",
    "for i in list2:\n",
    "    sum += i\n",
    "print('평균 : ', sum/len(list2))"
   ]
  },
  {
   "cell_type": "code",
   "execution_count": null,
   "id": "541e66c5",
   "metadata": {},
   "outputs": [],
   "source": []
  },
  {
   "cell_type": "markdown",
   "id": "a7640497",
   "metadata": {},
   "source": [
    "## 3. 성적처리 함수를 만들고자 한다.\n",
    "학생이 입력한 값의 평균을 계산해서 90점 이상이면 A / 80점 이상이면 B / 70점 이상이면 C / 나머지는 D 를 출력하는 함수를 구성\n",
    "\n",
    "입력값 (input) / 5개의 숫자 값을 입력 / 띄어쓰기로 구분하여 입력\n",
    "\n",
    "\n",
    "입력값에 학생이름도 포함\n",
    "\n",
    "ex) 홍길동 100 90 54 90 34\n",
    "\n",
    "출력 : 홍길동 학생의 평균은 00 입니다. 학점은 00입니다."
   ]
  },
  {
   "cell_type": "code",
   "execution_count": 39,
   "id": "8642448a",
   "metadata": {},
   "outputs": [
    {
     "name": "stdout",
     "output_type": "stream",
     "text": [
      "이름, 성적 : 홍길동 100 90 54 90 34\n"
     ]
    },
    {
     "data": {
      "text/plain": [
       "'홍길동 학생의 평균은 73.6입니다. 학점은 C입니다'"
      ]
     },
     "execution_count": 39,
     "metadata": {},
     "output_type": "execute_result"
    }
   ],
   "source": [
    "score = (input('이름, 성적 (띄어쓰기 기준 입력): ').split())\n",
    "socre = list(score)\n",
    "name = score[0] #이름\n",
    "score = score[1:6] # 이름 빼기\n",
    "score = [float (i) for i in score]\n",
    "\n",
    "# 점수\n",
    "grade = sum(score)/len(score)\n",
    "\n",
    "# 학점\n",
    "if grade >= 90:\n",
    "    h = 'A'\n",
    "elif grade > 80:\n",
    "    h ='B'\n",
    "elif grade > 70:\n",
    "    h ='C'\n",
    "else:\n",
    "    h = 'D'\n",
    "\n",
    "    \n",
    "    \n",
    "f'{name} 학생의 평균은 {grade}입니다. 학점은 {h}입니다'"
   ]
  },
  {
   "cell_type": "code",
   "execution_count": null,
   "id": "08665cd4",
   "metadata": {},
   "outputs": [],
   "source": []
  },
  {
   "cell_type": "markdown",
   "id": "1a485d78",
   "metadata": {},
   "source": [
    "## 4. 윤년 / 평년을 판별하는 함수를 구성\n",
    "\n",
    "윤년 : 4의 배수에 해당하는 연도 / 100으로 나눠지지 않는 연도 / 400으로 나눠지는 연도\n",
    "\n",
    "평년 : 위 조건에 해당하지 않는 경우\n",
    "\n",
    "숙련자 : if문 없이 생성 : Dictionary로 구성"
   ]
  },
  {
   "cell_type": "code",
   "execution_count": 23,
   "id": "008f899c",
   "metadata": {},
   "outputs": [
    {
     "name": "stdout",
     "output_type": "stream",
     "text": [
      "연도 : 2020\n",
      "윤년.\n"
     ]
    }
   ],
   "source": [
    "year = int(input(\"연도 : \"))\n",
    "\n",
    "if (year % 4 == 0 and year % 100 != 0) or year % 400 == 0:\n",
    "    print( \"윤년.\")\n",
    "else:\n",
    "    print( \"평년\")"
   ]
  }
 ],
 "metadata": {
  "kernelspec": {
   "display_name": "Python 3 (ipykernel)",
   "language": "python",
   "name": "python3"
  },
  "language_info": {
   "codemirror_mode": {
    "name": "ipython",
    "version": 3
   },
   "file_extension": ".py",
   "mimetype": "text/x-python",
   "name": "python",
   "nbconvert_exporter": "python",
   "pygments_lexer": "ipython3",
   "version": "3.9.13"
  }
 },
 "nbformat": 4,
 "nbformat_minor": 5
}
