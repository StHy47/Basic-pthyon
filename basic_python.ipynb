{
  "nbformat": 4,
  "nbformat_minor": 0,
  "metadata": {
    "colab": {
      "provenance": [],
      "authorship_tag": "ABX9TyMUKP59F9L62f2QQ03+XTWh",
      "include_colab_link": true
    },
    "kernelspec": {
      "name": "python3",
      "display_name": "Python 3"
    },
    "language_info": {
      "name": "python"
    }
  },
  "cells": [
    {
      "cell_type": "markdown",
      "metadata": {
        "id": "view-in-github",
        "colab_type": "text"
      },
      "source": [
        "<a href=\"https://colab.research.google.com/github/StHy47/Basic-pthyon/blob/main/basic_python.ipynb\" target=\"_parent\"><img src=\"https://colab.research.google.com/assets/colab-badge.svg\" alt=\"Open In Colab\"/></a>"
      ]
    },
    {
      "cell_type": "markdown",
      "source": [
        "# 대문자 소문자열"
      ],
      "metadata": {
        "id": "et-gkrPNrTBc"
      }
    },
    {
      "cell_type": "code",
      "source": [
        "str='I Love U'"
      ],
      "metadata": {
        "id": "9zlz0Pxvqyif"
      },
      "execution_count": 2,
      "outputs": []
    },
    {
      "cell_type": "code",
      "source": [
        "##1. 대문자열로 바꾸기 : string.upper()"
      ],
      "metadata": {
        "id": "YJddkihuqo9A"
      },
      "execution_count": null,
      "outputs": []
    },
    {
      "cell_type": "code",
      "source": [
        "a=str.upper()\n",
        "print(a)"
      ],
      "metadata": {
        "colab": {
          "base_uri": "https://localhost:8080/",
          "height": 36
        },
        "id": "BZKDpY5lqpP6",
        "outputId": "66d45b97-6bb2-4256-84a1-63d0c2caef3c"
      },
      "execution_count": 3,
      "outputs": [
        {
          "output_type": "execute_result",
          "data": {
            "text/plain": [
              "'I LOVE U'"
            ],
            "application/vnd.google.colaboratory.intrinsic+json": {
              "type": "string"
            }
          },
          "metadata": {},
          "execution_count": 3
        }
      ]
    },
    {
      "cell_type": "code",
      "source": [
        "##2. 소문자열로 바꾸기 : string.lower()"
      ],
      "metadata": {
        "id": "6BviFh8Iqpo-"
      },
      "execution_count": null,
      "outputs": []
    },
    {
      "cell_type": "code",
      "source": [
        "b=str.lower()\n",
        "print(b)"
      ],
      "metadata": {
        "colab": {
          "base_uri": "https://localhost:8080/",
          "height": 36
        },
        "id": "Fq1WRJ6_qp0d",
        "outputId": "37816647-27f4-4d52-fca7-f6e72d750b7d"
      },
      "execution_count": 4,
      "outputs": [
        {
          "output_type": "execute_result",
          "data": {
            "text/plain": [
              "'i love u'"
            ],
            "application/vnd.google.colaboratory.intrinsic+json": {
              "type": "string"
            }
          },
          "metadata": {},
          "execution_count": 4
        }
      ]
    },
    {
      "cell_type": "code",
      "source": [
        "##3. 대문자열인지 확인 : string.isupper()"
      ],
      "metadata": {
        "id": "2so5vfgyqp-b"
      },
      "execution_count": null,
      "outputs": []
    },
    {
      "cell_type": "code",
      "source": [
        "c=str.isupper()\n",
        "print(c)"
      ],
      "metadata": {
        "colab": {
          "base_uri": "https://localhost:8080/"
        },
        "id": "_8fS_WATqqG8",
        "outputId": "9e4d051f-52a0-44a4-f40c-148e795521ee"
      },
      "execution_count": 8,
      "outputs": [
        {
          "output_type": "execute_result",
          "data": {
            "text/plain": [
              "False"
            ]
          },
          "metadata": {},
          "execution_count": 8
        }
      ]
    },
    {
      "cell_type": "code",
      "source": [
        "## 4. 소문자열인지 확인 : string.islower()"
      ],
      "metadata": {
        "id": "hYQolNwlqqPv"
      },
      "execution_count": null,
      "outputs": []
    },
    {
      "cell_type": "code",
      "source": [
        "d=str.islower()\n",
        "print(d)"
      ],
      "metadata": {
        "colab": {
          "base_uri": "https://localhost:8080/"
        },
        "id": "PIyhTxC7rCMD",
        "outputId": "5efbdc6c-f7e8-4ac6-8dad-de52a3ba4406"
      },
      "execution_count": 9,
      "outputs": [
        {
          "output_type": "stream",
          "name": "stdout",
          "text": [
            "False\n"
          ]
        }
      ]
    },
    {
      "cell_type": "code",
      "source": [
        "## 5. 대문자는 소문자, 소문자는 대문자로 바꿔서 출력 : string.swapcase()"
      ],
      "metadata": {
        "id": "lD8a1Dz7s12T"
      },
      "execution_count": null,
      "outputs": []
    },
    {
      "cell_type": "code",
      "source": [
        "e=str.swapcase()\n",
        "print(e)"
      ],
      "metadata": {
        "colab": {
          "base_uri": "https://localhost:8080/"
        },
        "id": "8NP5M1k1s2DD",
        "outputId": "2a21d576-6a9e-433b-c561-6938f04d1826"
      },
      "execution_count": 12,
      "outputs": [
        {
          "output_type": "stream",
          "name": "stdout",
          "text": [
            "i lOVE u\n"
          ]
        }
      ]
    },
    {
      "cell_type": "code",
      "source": [
        "# 활용문제\n",
        "##Q. 대문자는 소문자, 소문자는 대문자로 바꾸기"
      ],
      "metadata": {
        "id": "QEV2TP92rZen"
      },
      "execution_count": null,
      "outputs": []
    },
    {
      "cell_type": "code",
      "source": [
        "### 방법 1\n",
        "str = 'I Love U'\n",
        "\n",
        "k=str.swapcase()\n",
        "print(k)"
      ],
      "metadata": {
        "colab": {
          "base_uri": "https://localhost:8080/"
        },
        "id": "BYt2oD0urZyF",
        "outputId": "5462296e-5e90-41ad-9862-cf9329f3c9e9"
      },
      "execution_count": 11,
      "outputs": [
        {
          "output_type": "stream",
          "name": "stdout",
          "text": [
            "i lOVE u\n"
          ]
        }
      ]
    },
    {
      "cell_type": "code",
      "source": [
        "### 방법 2\n",
        "str = 'I Love U'\n",
        "\n",
        "a=''\n",
        "for s in str:\n",
        "  if(s.isupper()):\n",
        "    a=a+s.lower()\n",
        "  else:\n",
        "      a=a+s.upper()\n",
        "print(a)\n"
      ],
      "metadata": {
        "colab": {
          "base_uri": "https://localhost:8080/"
        },
        "id": "WU4PARR2rZ8a",
        "outputId": "61dcacd0-9d35-4690-8f47-957164c1c4b0"
      },
      "execution_count": 14,
      "outputs": [
        {
          "output_type": "stream",
          "name": "stdout",
          "text": [
            "i lOVE u\n"
          ]
        }
      ]
    },
    {
      "cell_type": "code",
      "source": [
        "##### 방법 2 설명\n",
        "str = 'I Love U'\n",
        "\n",
        "new=''  ###수정된 문자열을 저장할 빈 공간(new)를 생성\n",
        "for i in str:   ###str의 각 문자(i)를 반복\n",
        "  if(i.isupper()):    ###만약 문자 i가 대문자면 소문자를 반환하고 new에 추가\n",
        "    new=new+i.lower()\n",
        "  else:               ### 아닌 경우에는 대문자를 반환하고 new에 추가\n",
        "      new=new+i.upper()\n",
        "print(new)"
      ],
      "metadata": {
        "id": "KYExRx7kraFO"
      },
      "execution_count": null,
      "outputs": []
    },
    {
      "cell_type": "markdown",
      "source": [
        "문자열 my_string의 인덱스 s(정수)부터 overwrite_string의 길이만큼을 문자열 overwrite_string으로 바꾼 문자열을 return 하는 solution 함수를 작성"
      ],
      "metadata": {
        "id": "Y7qPXdg4wfEq"
      }
    },
    {
      "cell_type": "code",
      "source": [
        "m=\"He11oWor1d\"\n",
        "o=\"lloWorl\"\n",
        "s=2\n",
        "\n",
        "\n",
        "def solution(my_string, overwrite_string, s):\n",
        "    answer = my_string[:s] + overwrite_string + my_string[s + len(overwrite_string):]\n",
        "    return answer\n",
        "\n",
        "a=solution(m,o,s)\n",
        "print(a)"
      ],
      "metadata": {
        "colab": {
          "base_uri": "https://localhost:8080/"
        },
        "id": "HF93tqgM1ZiE",
        "outputId": "c475e94c-0e13-4ef5-c3da-fe54e8c91574"
      },
      "execution_count": 30,
      "outputs": [
        {
          "output_type": "stream",
          "name": "stdout",
          "text": [
            "HelloWorld\n"
          ]
        }
      ]
    }
  ]
}